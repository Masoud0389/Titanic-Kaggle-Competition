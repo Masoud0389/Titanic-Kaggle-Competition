{
 "cells": [
  {
   "cell_type": "code",
   "execution_count": 1,
   "id": "5db6cb16",
   "metadata": {
    "_cell_guid": "b1076dfc-b9ad-4769-8c92-a6c4dae69d19",
    "_uuid": "8f2839f25d086af736a60e9eeb907d3b93b6e0e5",
    "execution": {
     "iopub.execute_input": "2023-01-02T02:58:07.781913Z",
     "iopub.status.busy": "2023-01-02T02:58:07.781436Z",
     "iopub.status.idle": "2023-01-02T02:58:07.792315Z",
     "shell.execute_reply": "2023-01-02T02:58:07.791708Z"
    },
    "papermill": {
     "duration": 0.020726,
     "end_time": "2023-01-02T02:58:07.794250",
     "exception": false,
     "start_time": "2023-01-02T02:58:07.773524",
     "status": "completed"
    },
    "tags": []
   },
   "outputs": [
    {
     "name": "stdout",
     "output_type": "stream",
     "text": [
      "/kaggle/input/titanic/train.csv\n",
      "/kaggle/input/titanic/test.csv\n",
      "/kaggle/input/titanic/gender_submission.csv\n"
     ]
    }
   ],
   "source": [
    "# This Python 3 environment comes with many helpful analytics libraries installed\n",
    "# It is defined by the kaggle/python Docker image: https://github.com/kaggle/docker-python\n",
    "# For example, here's several helpful packages to load\n",
    "\n",
    "import numpy as np # linear algebra\n",
    "import pandas as pd # data processing, CSV file I/O (e.g. pd.read_csv)\n",
    "\n",
    "# Input data files are available in the read-only \"../input/\" directory\n",
    "# For example, running this (by clicking run or pressing Shift+Enter) will list all files under the input directory\n",
    "\n",
    "import os\n",
    "for dirname, _, filenames in os.walk('/kaggle/input'):\n",
    "    for filename in filenames:\n",
    "        print(os.path.join(dirname, filename))\n",
    "\n",
    "# You can write up to 20GB to the current directory (/kaggle/working/) that gets preserved as output when you create a version using \"Save & Run All\" \n",
    "# You can also write temporary files to /kaggle/temp/, but they won't be saved outside of the current session"
   ]
  },
  {
   "cell_type": "markdown",
   "id": "de463f49",
   "metadata": {
    "papermill": {
     "duration": 0.005154,
     "end_time": "2023-01-02T02:58:07.805856",
     "exception": false,
     "start_time": "2023-01-02T02:58:07.800702",
     "status": "completed"
    },
    "tags": []
   },
   "source": [
    "# Loading data"
   ]
  },
  {
   "cell_type": "markdown",
   "id": "cabe6210",
   "metadata": {
    "papermill": {
     "duration": 0.005071,
     "end_time": "2023-01-02T02:58:07.816310",
     "exception": false,
     "start_time": "2023-01-02T02:58:07.811239",
     "status": "completed"
    },
    "tags": []
   },
   "source": [
    "Training data"
   ]
  },
  {
   "cell_type": "code",
   "execution_count": 2,
   "id": "80d48c30",
   "metadata": {
    "execution": {
     "iopub.execute_input": "2023-01-02T02:58:07.829115Z",
     "iopub.status.busy": "2023-01-02T02:58:07.828446Z",
     "iopub.status.idle": "2023-01-02T02:58:07.850164Z",
     "shell.execute_reply": "2023-01-02T02:58:07.848959Z"
    },
    "papermill": {
     "duration": 0.030718,
     "end_time": "2023-01-02T02:58:07.852395",
     "exception": false,
     "start_time": "2023-01-02T02:58:07.821677",
     "status": "completed"
    },
    "tags": []
   },
   "outputs": [],
   "source": [
    "train_data = pd.read_csv(\"/kaggle/input/titanic/train.csv\")"
   ]
  },
  {
   "cell_type": "code",
   "execution_count": 3,
   "id": "55e7b9aa",
   "metadata": {
    "execution": {
     "iopub.execute_input": "2023-01-02T02:58:07.864789Z",
     "iopub.status.busy": "2023-01-02T02:58:07.864398Z",
     "iopub.status.idle": "2023-01-02T02:58:07.887345Z",
     "shell.execute_reply": "2023-01-02T02:58:07.886718Z"
    },
    "papermill": {
     "duration": 0.031087,
     "end_time": "2023-01-02T02:58:07.888947",
     "exception": false,
     "start_time": "2023-01-02T02:58:07.857860",
     "status": "completed"
    },
    "tags": []
   },
   "outputs": [
    {
     "data": {
      "text/html": [
       "<div>\n",
       "<style scoped>\n",
       "    .dataframe tbody tr th:only-of-type {\n",
       "        vertical-align: middle;\n",
       "    }\n",
       "\n",
       "    .dataframe tbody tr th {\n",
       "        vertical-align: top;\n",
       "    }\n",
       "\n",
       "    .dataframe thead th {\n",
       "        text-align: right;\n",
       "    }\n",
       "</style>\n",
       "<table border=\"1\" class=\"dataframe\">\n",
       "  <thead>\n",
       "    <tr style=\"text-align: right;\">\n",
       "      <th></th>\n",
       "      <th>PassengerId</th>\n",
       "      <th>Survived</th>\n",
       "      <th>Pclass</th>\n",
       "      <th>Name</th>\n",
       "      <th>Sex</th>\n",
       "      <th>Age</th>\n",
       "      <th>SibSp</th>\n",
       "      <th>Parch</th>\n",
       "      <th>Ticket</th>\n",
       "      <th>Fare</th>\n",
       "      <th>Cabin</th>\n",
       "      <th>Embarked</th>\n",
       "    </tr>\n",
       "  </thead>\n",
       "  <tbody>\n",
       "    <tr>\n",
       "      <th>0</th>\n",
       "      <td>1</td>\n",
       "      <td>0</td>\n",
       "      <td>3</td>\n",
       "      <td>Braund, Mr. Owen Harris</td>\n",
       "      <td>male</td>\n",
       "      <td>22.0</td>\n",
       "      <td>1</td>\n",
       "      <td>0</td>\n",
       "      <td>A/5 21171</td>\n",
       "      <td>7.2500</td>\n",
       "      <td>NaN</td>\n",
       "      <td>S</td>\n",
       "    </tr>\n",
       "    <tr>\n",
       "      <th>1</th>\n",
       "      <td>2</td>\n",
       "      <td>1</td>\n",
       "      <td>1</td>\n",
       "      <td>Cumings, Mrs. John Bradley (Florence Briggs Th...</td>\n",
       "      <td>female</td>\n",
       "      <td>38.0</td>\n",
       "      <td>1</td>\n",
       "      <td>0</td>\n",
       "      <td>PC 17599</td>\n",
       "      <td>71.2833</td>\n",
       "      <td>C85</td>\n",
       "      <td>C</td>\n",
       "    </tr>\n",
       "    <tr>\n",
       "      <th>2</th>\n",
       "      <td>3</td>\n",
       "      <td>1</td>\n",
       "      <td>3</td>\n",
       "      <td>Heikkinen, Miss. Laina</td>\n",
       "      <td>female</td>\n",
       "      <td>26.0</td>\n",
       "      <td>0</td>\n",
       "      <td>0</td>\n",
       "      <td>STON/O2. 3101282</td>\n",
       "      <td>7.9250</td>\n",
       "      <td>NaN</td>\n",
       "      <td>S</td>\n",
       "    </tr>\n",
       "  </tbody>\n",
       "</table>\n",
       "</div>"
      ],
      "text/plain": [
       "   PassengerId  Survived  Pclass  \\\n",
       "0            1         0       3   \n",
       "1            2         1       1   \n",
       "2            3         1       3   \n",
       "\n",
       "                                                Name     Sex   Age  SibSp  \\\n",
       "0                            Braund, Mr. Owen Harris    male  22.0      1   \n",
       "1  Cumings, Mrs. John Bradley (Florence Briggs Th...  female  38.0      1   \n",
       "2                             Heikkinen, Miss. Laina  female  26.0      0   \n",
       "\n",
       "   Parch            Ticket     Fare Cabin Embarked  \n",
       "0      0         A/5 21171   7.2500   NaN        S  \n",
       "1      0          PC 17599  71.2833   C85        C  \n",
       "2      0  STON/O2. 3101282   7.9250   NaN        S  "
      ]
     },
     "execution_count": 3,
     "metadata": {},
     "output_type": "execute_result"
    }
   ],
   "source": [
    "# printing first 3 train samples\n",
    "train_data.head(3)"
   ]
  },
  {
   "cell_type": "markdown",
   "id": "0099e113",
   "metadata": {
    "papermill": {
     "duration": 0.005361,
     "end_time": "2023-01-02T02:58:07.900013",
     "exception": false,
     "start_time": "2023-01-02T02:58:07.894652",
     "status": "completed"
    },
    "tags": []
   },
   "source": [
    "Testing data"
   ]
  },
  {
   "cell_type": "code",
   "execution_count": 4,
   "id": "3ccc3915",
   "metadata": {
    "execution": {
     "iopub.execute_input": "2023-01-02T02:58:07.912997Z",
     "iopub.status.busy": "2023-01-02T02:58:07.912220Z",
     "iopub.status.idle": "2023-01-02T02:58:07.929012Z",
     "shell.execute_reply": "2023-01-02T02:58:07.928260Z"
    },
    "papermill": {
     "duration": 0.02507,
     "end_time": "2023-01-02T02:58:07.930710",
     "exception": false,
     "start_time": "2023-01-02T02:58:07.905640",
     "status": "completed"
    },
    "tags": []
   },
   "outputs": [],
   "source": [
    "test_data = pd.read_csv(\"/kaggle/input/titanic/test.csv\")\n",
    "# printing first 3 testing samples\n",
    "test_data.head(3)\n",
    "ID_column = test_data[\"PassengerId\"]"
   ]
  },
  {
   "cell_type": "code",
   "execution_count": 5,
   "id": "031fd22f",
   "metadata": {
    "execution": {
     "iopub.execute_input": "2023-01-02T02:58:07.943910Z",
     "iopub.status.busy": "2023-01-02T02:58:07.943595Z",
     "iopub.status.idle": "2023-01-02T02:58:07.963135Z",
     "shell.execute_reply": "2023-01-02T02:58:07.962240Z"
    },
    "papermill": {
     "duration": 0.029928,
     "end_time": "2023-01-02T02:58:07.966190",
     "exception": false,
     "start_time": "2023-01-02T02:58:07.936262",
     "status": "completed"
    },
    "tags": []
   },
   "outputs": [
    {
     "name": "stdout",
     "output_type": "stream",
     "text": [
      "<class 'pandas.core.frame.DataFrame'>\n",
      "RangeIndex: 891 entries, 0 to 890\n",
      "Data columns (total 12 columns):\n",
      " #   Column       Non-Null Count  Dtype  \n",
      "---  ------       --------------  -----  \n",
      " 0   PassengerId  891 non-null    int64  \n",
      " 1   Survived     891 non-null    int64  \n",
      " 2   Pclass       891 non-null    int64  \n",
      " 3   Name         891 non-null    object \n",
      " 4   Sex          891 non-null    object \n",
      " 5   Age          714 non-null    float64\n",
      " 6   SibSp        891 non-null    int64  \n",
      " 7   Parch        891 non-null    int64  \n",
      " 8   Ticket       891 non-null    object \n",
      " 9   Fare         891 non-null    float64\n",
      " 10  Cabin        204 non-null    object \n",
      " 11  Embarked     889 non-null    object \n",
      "dtypes: float64(2), int64(5), object(5)\n",
      "memory usage: 83.7+ KB\n"
     ]
    }
   ],
   "source": [
    "# training dataset info\n",
    "train_data.info()"
   ]
  },
  {
   "cell_type": "markdown",
   "id": "36c7708b",
   "metadata": {
    "papermill": {
     "duration": 0.005755,
     "end_time": "2023-01-02T02:58:07.979062",
     "exception": false,
     "start_time": "2023-01-02T02:58:07.973307",
     "status": "completed"
    },
    "tags": []
   },
   "source": [
    "# Data preprocessing"
   ]
  },
  {
   "cell_type": "code",
   "execution_count": 6,
   "id": "ed44764c",
   "metadata": {
    "execution": {
     "iopub.execute_input": "2023-01-02T02:58:07.992492Z",
     "iopub.status.busy": "2023-01-02T02:58:07.991971Z",
     "iopub.status.idle": "2023-01-02T02:58:09.103410Z",
     "shell.execute_reply": "2023-01-02T02:58:09.102676Z"
    },
    "papermill": {
     "duration": 1.120569,
     "end_time": "2023-01-02T02:58:09.105430",
     "exception": false,
     "start_time": "2023-01-02T02:58:07.984861",
     "status": "completed"
    },
    "tags": []
   },
   "outputs": [
    {
     "name": "stderr",
     "output_type": "stream",
     "text": [
      "/opt/conda/lib/python3.7/site-packages/seaborn/_decorators.py:43: FutureWarning: Pass the following variable as a keyword arg: x. From version 0.12, the only valid positional argument will be `data`, and passing other arguments without an explicit keyword will result in an error or misinterpretation.\n",
      "  FutureWarning\n"
     ]
    },
    {
     "data": {
      "image/png": "[encoded data removed]",
      "text/plain": [
       "<Figure size 432x288 with 1 Axes>"
      ]
     },
     "metadata": {
      "needs_background": "light"
     },
     "output_type": "display_data"
    },
    {
     "data": {
      "text/plain": [
       "male      577\n",
       "female    314\n",
       "Name: Sex, dtype: int64"
      ]
     },
     "execution_count": 6,
     "metadata": {},
     "output_type": "execute_result"
    }
   ],
   "source": [
    "# Setup plotting\n",
    "import matplotlib.pyplot as plt\n",
    "import seaborn as sns\n",
    "# Sex data visualization\n",
    "g = sns.countplot(train_data['Sex'])\n",
    "g.set_xticklabels(['male','female'])\n",
    "plt.show()\n",
    "# Sex info\n",
    "train_data.Sex.value_counts()"
   ]
  },
  {
   "cell_type": "code",
   "execution_count": 7,
   "id": "552bb085",
   "metadata": {
    "execution": {
     "iopub.execute_input": "2023-01-02T02:58:09.119766Z",
     "iopub.status.busy": "2023-01-02T02:58:09.119444Z",
     "iopub.status.idle": "2023-01-02T02:58:09.126780Z",
     "shell.execute_reply": "2023-01-02T02:58:09.125945Z"
    },
    "papermill": {
     "duration": 0.016544,
     "end_time": "2023-01-02T02:58:09.128975",
     "exception": false,
     "start_time": "2023-01-02T02:58:09.112431",
     "status": "completed"
    },
    "tags": []
   },
   "outputs": [
    {
     "data": {
      "text/plain": [
       "PassengerId      0\n",
       "Survived         0\n",
       "Pclass           0\n",
       "Name             0\n",
       "Sex              0\n",
       "Age            177\n",
       "SibSp            0\n",
       "Parch            0\n",
       "Ticket           0\n",
       "Fare             0\n",
       "Cabin          687\n",
       "Embarked         2\n",
       "dtype: int64"
      ]
     },
     "execution_count": 7,
     "metadata": {},
     "output_type": "execute_result"
    }
   ],
   "source": [
    "# checking missing train data\n",
    "train_data.isnull().sum()"
   ]
  },
  {
   "cell_type": "code",
   "execution_count": 8,
   "id": "8a3bcd9c",
   "metadata": {
    "execution": {
     "iopub.execute_input": "2023-01-02T02:58:09.143201Z",
     "iopub.status.busy": "2023-01-02T02:58:09.142746Z",
     "iopub.status.idle": "2023-01-02T02:58:09.149005Z",
     "shell.execute_reply": "2023-01-02T02:58:09.148412Z"
    },
    "papermill": {
     "duration": 0.015132,
     "end_time": "2023-01-02T02:58:09.150684",
     "exception": false,
     "start_time": "2023-01-02T02:58:09.135552",
     "status": "completed"
    },
    "tags": []
   },
   "outputs": [
    {
     "data": {
      "text/plain": [
       "PassengerId      0\n",
       "Pclass           0\n",
       "Name             0\n",
       "Sex              0\n",
       "Age             86\n",
       "SibSp            0\n",
       "Parch            0\n",
       "Ticket           0\n",
       "Fare             1\n",
       "Cabin          327\n",
       "Embarked         0\n",
       "dtype: int64"
      ]
     },
     "execution_count": 8,
     "metadata": {},
     "output_type": "execute_result"
    }
   ],
   "source": [
    "# checking missing test data\n",
    "test_data.isnull().sum()"
   ]
  },
  {
   "cell_type": "markdown",
   "id": "709ac302",
   "metadata": {
    "papermill": {
     "duration": 0.006231,
     "end_time": "2023-01-02T02:58:09.163598",
     "exception": false,
     "start_time": "2023-01-02T02:58:09.157367",
     "status": "completed"
    },
    "tags": []
   },
   "source": [
    "**Imputing missing data**"
   ]
  },
  {
   "cell_type": "code",
   "execution_count": 9,
   "id": "d75bb8a3",
   "metadata": {
    "execution": {
     "iopub.execute_input": "2023-01-02T02:58:09.181993Z",
     "iopub.status.busy": "2023-01-02T02:58:09.181149Z",
     "iopub.status.idle": "2023-01-02T02:58:09.517640Z",
     "shell.execute_reply": "2023-01-02T02:58:09.516792Z"
    },
    "papermill": {
     "duration": 0.348956,
     "end_time": "2023-01-02T02:58:09.520045",
     "exception": false,
     "start_time": "2023-01-02T02:58:09.171089",
     "status": "completed"
    },
    "tags": []
   },
   "outputs": [
    {
     "data": {
      "text/plain": [
       "PassengerId    0\n",
       "Survived       0\n",
       "Pclass         0\n",
       "Name           0\n",
       "Sex            0\n",
       "Age            0\n",
       "SibSp          0\n",
       "Parch          0\n",
       "Ticket         0\n",
       "Fare           0\n",
       "Cabin          0\n",
       "Embarked       0\n",
       "dtype: int64"
      ]
     },
     "execution_count": 9,
     "metadata": {},
     "output_type": "execute_result"
    }
   ],
   "source": [
    "from sklearn.impute import SimpleImputer\n",
    "# using mean value for filling null data\n",
    "imp = SimpleImputer(missing_values=np.nan, strategy='mean')\n",
    "train_data['Age'] = imp.fit_transform(train_data[['Age']])\n",
    "test_data['Age'] = imp.fit_transform(test_data[['Age']])\n",
    "test_data['Fare'] = imp.fit_transform(test_data[['Fare']])\n",
    "train_data.Cabin = train_data.Cabin.fillna('NA')  ### becasuse there are a lot of missing data\n",
    "imp_object = SimpleImputer(missing_values=np.nan, strategy='most_frequent')\n",
    "train_data['Embarked'] = imp_object.fit_transform(train_data[['Embarked']])\n",
    "train_data.isnull().sum()"
   ]
  },
  {
   "cell_type": "markdown",
   "id": "043970d3",
   "metadata": {
    "papermill": {
     "duration": 0.006556,
     "end_time": "2023-01-02T02:58:09.533807",
     "exception": false,
     "start_time": "2023-01-02T02:58:09.527251",
     "status": "completed"
    },
    "tags": []
   },
   "source": [
    "**Encoding categorical features**"
   ]
  },
  {
   "cell_type": "code",
   "execution_count": 10,
   "id": "b8ac87d3",
   "metadata": {
    "execution": {
     "iopub.execute_input": "2023-01-02T02:58:09.549247Z",
     "iopub.status.busy": "2023-01-02T02:58:09.548840Z",
     "iopub.status.idle": "2023-01-02T02:58:09.582943Z",
     "shell.execute_reply": "2023-01-02T02:58:09.581949Z"
    },
    "papermill": {
     "duration": 0.044397,
     "end_time": "2023-01-02T02:58:09.585094",
     "exception": false,
     "start_time": "2023-01-02T02:58:09.540697",
     "status": "completed"
    },
    "tags": []
   },
   "outputs": [
    {
     "data": {
      "text/html": [
       "<div>\n",
       "<style scoped>\n",
       "    .dataframe tbody tr th:only-of-type {\n",
       "        vertical-align: middle;\n",
       "    }\n",
       "\n",
       "    .dataframe tbody tr th {\n",
       "        vertical-align: top;\n",
       "    }\n",
       "\n",
       "    .dataframe thead th {\n",
       "        text-align: right;\n",
       "    }\n",
       "</style>\n",
       "<table border=\"1\" class=\"dataframe\">\n",
       "  <thead>\n",
       "    <tr style=\"text-align: right;\">\n",
       "      <th></th>\n",
       "      <th>Survived</th>\n",
       "      <th>Pclass</th>\n",
       "      <th>Sex</th>\n",
       "      <th>Age</th>\n",
       "      <th>SibSp</th>\n",
       "      <th>Parch</th>\n",
       "      <th>Fare</th>\n",
       "      <th>C</th>\n",
       "      <th>Q</th>\n",
       "      <th>S</th>\n",
       "    </tr>\n",
       "  </thead>\n",
       "  <tbody>\n",
       "    <tr>\n",
       "      <th>0</th>\n",
       "      <td>0</td>\n",
       "      <td>3</td>\n",
       "      <td>1.0</td>\n",
       "      <td>22.000000</td>\n",
       "      <td>1</td>\n",
       "      <td>0</td>\n",
       "      <td>7.2500</td>\n",
       "      <td>0.0</td>\n",
       "      <td>0.0</td>\n",
       "      <td>1.0</td>\n",
       "    </tr>\n",
       "    <tr>\n",
       "      <th>1</th>\n",
       "      <td>1</td>\n",
       "      <td>1</td>\n",
       "      <td>0.0</td>\n",
       "      <td>38.000000</td>\n",
       "      <td>1</td>\n",
       "      <td>0</td>\n",
       "      <td>71.2833</td>\n",
       "      <td>1.0</td>\n",
       "      <td>0.0</td>\n",
       "      <td>0.0</td>\n",
       "    </tr>\n",
       "    <tr>\n",
       "      <th>2</th>\n",
       "      <td>1</td>\n",
       "      <td>3</td>\n",
       "      <td>0.0</td>\n",
       "      <td>26.000000</td>\n",
       "      <td>0</td>\n",
       "      <td>0</td>\n",
       "      <td>7.9250</td>\n",
       "      <td>0.0</td>\n",
       "      <td>0.0</td>\n",
       "      <td>1.0</td>\n",
       "    </tr>\n",
       "    <tr>\n",
       "      <th>3</th>\n",
       "      <td>1</td>\n",
       "      <td>1</td>\n",
       "      <td>0.0</td>\n",
       "      <td>35.000000</td>\n",
       "      <td>1</td>\n",
       "      <td>0</td>\n",
       "      <td>53.1000</td>\n",
       "      <td>0.0</td>\n",
       "      <td>0.0</td>\n",
       "      <td>1.0</td>\n",
       "    </tr>\n",
       "    <tr>\n",
       "      <th>4</th>\n",
       "      <td>0</td>\n",
       "      <td>3</td>\n",
       "      <td>1.0</td>\n",
       "      <td>35.000000</td>\n",
       "      <td>0</td>\n",
       "      <td>0</td>\n",
       "      <td>8.0500</td>\n",
       "      <td>0.0</td>\n",
       "      <td>0.0</td>\n",
       "      <td>1.0</td>\n",
       "    </tr>\n",
       "    <tr>\n",
       "      <th>5</th>\n",
       "      <td>0</td>\n",
       "      <td>3</td>\n",
       "      <td>1.0</td>\n",
       "      <td>29.699118</td>\n",
       "      <td>0</td>\n",
       "      <td>0</td>\n",
       "      <td>8.4583</td>\n",
       "      <td>0.0</td>\n",
       "      <td>1.0</td>\n",
       "      <td>0.0</td>\n",
       "    </tr>\n",
       "    <tr>\n",
       "      <th>6</th>\n",
       "      <td>0</td>\n",
       "      <td>1</td>\n",
       "      <td>1.0</td>\n",
       "      <td>54.000000</td>\n",
       "      <td>0</td>\n",
       "      <td>0</td>\n",
       "      <td>51.8625</td>\n",
       "      <td>0.0</td>\n",
       "      <td>0.0</td>\n",
       "      <td>1.0</td>\n",
       "    </tr>\n",
       "    <tr>\n",
       "      <th>7</th>\n",
       "      <td>0</td>\n",
       "      <td>3</td>\n",
       "      <td>1.0</td>\n",
       "      <td>2.000000</td>\n",
       "      <td>3</td>\n",
       "      <td>1</td>\n",
       "      <td>21.0750</td>\n",
       "      <td>0.0</td>\n",
       "      <td>0.0</td>\n",
       "      <td>1.0</td>\n",
       "    </tr>\n",
       "    <tr>\n",
       "      <th>8</th>\n",
       "      <td>1</td>\n",
       "      <td>3</td>\n",
       "      <td>0.0</td>\n",
       "      <td>27.000000</td>\n",
       "      <td>0</td>\n",
       "      <td>2</td>\n",
       "      <td>11.1333</td>\n",
       "      <td>0.0</td>\n",
       "      <td>0.0</td>\n",
       "      <td>1.0</td>\n",
       "    </tr>\n",
       "    <tr>\n",
       "      <th>9</th>\n",
       "      <td>1</td>\n",
       "      <td>2</td>\n",
       "      <td>0.0</td>\n",
       "      <td>14.000000</td>\n",
       "      <td>1</td>\n",
       "      <td>0</td>\n",
       "      <td>30.0708</td>\n",
       "      <td>1.0</td>\n",
       "      <td>0.0</td>\n",
       "      <td>0.0</td>\n",
       "    </tr>\n",
       "  </tbody>\n",
       "</table>\n",
       "</div>"
      ],
      "text/plain": [
       "   Survived  Pclass  Sex        Age  SibSp  Parch     Fare    C    Q    S\n",
       "0         0       3  1.0  22.000000      1      0   7.2500  0.0  0.0  1.0\n",
       "1         1       1  0.0  38.000000      1      0  71.2833  1.0  0.0  0.0\n",
       "2         1       3  0.0  26.000000      0      0   7.9250  0.0  0.0  1.0\n",
       "3         1       1  0.0  35.000000      1      0  53.1000  0.0  0.0  1.0\n",
       "4         0       3  1.0  35.000000      0      0   8.0500  0.0  0.0  1.0\n",
       "5         0       3  1.0  29.699118      0      0   8.4583  0.0  1.0  0.0\n",
       "6         0       1  1.0  54.000000      0      0  51.8625  0.0  0.0  1.0\n",
       "7         0       3  1.0   2.000000      3      1  21.0750  0.0  0.0  1.0\n",
       "8         1       3  0.0  27.000000      0      2  11.1333  0.0  0.0  1.0\n",
       "9         1       2  0.0  14.000000      1      0  30.0708  1.0  0.0  0.0"
      ]
     },
     "execution_count": 10,
     "metadata": {},
     "output_type": "execute_result"
    }
   ],
   "source": [
    "from sklearn.preprocessing import OneHotEncoder\n",
    "train_data['Sex'] = OneHotEncoder().fit_transform(train_data[['Sex']]).toarray()[:,1]\n",
    "test_data['Sex'] = OneHotEncoder().fit_transform(test_data[['Sex']]).toarray()[:,1]\n",
    "train_data[['C', 'Q', 'S']] = OneHotEncoder().fit_transform(train_data[['Embarked']]).toarray()\n",
    "test_data[['C', 'Q', 'S']] = OneHotEncoder().fit_transform(test_data[['Embarked']]).toarray()\n",
    "train_data = train_data.drop(columns = ['Embarked', 'Name', 'Ticket', 'PassengerId', 'Cabin'])\n",
    "test_data = test_data.drop(columns = ['Embarked', 'Name', 'Ticket', 'PassengerId', 'Cabin'])\n",
    "train_data.head(10)"
   ]
  },
  {
   "cell_type": "markdown",
   "id": "635e67a9",
   "metadata": {
    "papermill": {
     "duration": 0.006753,
     "end_time": "2023-01-02T02:58:09.599131",
     "exception": false,
     "start_time": "2023-01-02T02:58:09.592378",
     "status": "completed"
    },
    "tags": []
   },
   "source": [
    "**Standardization and Normalization**"
   ]
  },
  {
   "cell_type": "code",
   "execution_count": 11,
   "id": "1b8b1705",
   "metadata": {
    "execution": {
     "iopub.execute_input": "2023-01-02T02:58:09.615320Z",
     "iopub.status.busy": "2023-01-02T02:58:09.614622Z",
     "iopub.status.idle": "2023-01-02T02:58:09.634765Z",
     "shell.execute_reply": "2023-01-02T02:58:09.633939Z"
    },
    "papermill": {
     "duration": 0.030587,
     "end_time": "2023-01-02T02:58:09.636757",
     "exception": false,
     "start_time": "2023-01-02T02:58:09.606170",
     "status": "completed"
    },
    "tags": []
   },
   "outputs": [
    {
     "data": {
      "text/html": [
       "<div>\n",
       "<style scoped>\n",
       "    .dataframe tbody tr th:only-of-type {\n",
       "        vertical-align: middle;\n",
       "    }\n",
       "\n",
       "    .dataframe tbody tr th {\n",
       "        vertical-align: top;\n",
       "    }\n",
       "\n",
       "    .dataframe thead th {\n",
       "        text-align: right;\n",
       "    }\n",
       "</style>\n",
       "<table border=\"1\" class=\"dataframe\">\n",
       "  <thead>\n",
       "    <tr style=\"text-align: right;\">\n",
       "      <th></th>\n",
       "      <th>Survived</th>\n",
       "      <th>Pclass</th>\n",
       "      <th>Sex</th>\n",
       "      <th>Age</th>\n",
       "      <th>SibSp</th>\n",
       "      <th>Parch</th>\n",
       "      <th>Fare</th>\n",
       "      <th>C</th>\n",
       "      <th>Q</th>\n",
       "      <th>S</th>\n",
       "    </tr>\n",
       "  </thead>\n",
       "  <tbody>\n",
       "    <tr>\n",
       "      <th>0</th>\n",
       "      <td>0</td>\n",
       "      <td>3</td>\n",
       "      <td>1.0</td>\n",
       "      <td>-0.592481</td>\n",
       "      <td>1</td>\n",
       "      <td>0</td>\n",
       "      <td>-0.502445</td>\n",
       "      <td>0.0</td>\n",
       "      <td>0.0</td>\n",
       "      <td>1.0</td>\n",
       "    </tr>\n",
       "    <tr>\n",
       "      <th>1</th>\n",
       "      <td>1</td>\n",
       "      <td>1</td>\n",
       "      <td>0.0</td>\n",
       "      <td>0.638789</td>\n",
       "      <td>1</td>\n",
       "      <td>0</td>\n",
       "      <td>0.786845</td>\n",
       "      <td>1.0</td>\n",
       "      <td>0.0</td>\n",
       "      <td>0.0</td>\n",
       "    </tr>\n",
       "    <tr>\n",
       "      <th>2</th>\n",
       "      <td>1</td>\n",
       "      <td>3</td>\n",
       "      <td>0.0</td>\n",
       "      <td>-0.284663</td>\n",
       "      <td>0</td>\n",
       "      <td>0</td>\n",
       "      <td>-0.488854</td>\n",
       "      <td>0.0</td>\n",
       "      <td>0.0</td>\n",
       "      <td>1.0</td>\n",
       "    </tr>\n",
       "    <tr>\n",
       "      <th>3</th>\n",
       "      <td>1</td>\n",
       "      <td>1</td>\n",
       "      <td>0.0</td>\n",
       "      <td>0.407926</td>\n",
       "      <td>1</td>\n",
       "      <td>0</td>\n",
       "      <td>0.420730</td>\n",
       "      <td>0.0</td>\n",
       "      <td>0.0</td>\n",
       "      <td>1.0</td>\n",
       "    </tr>\n",
       "    <tr>\n",
       "      <th>4</th>\n",
       "      <td>0</td>\n",
       "      <td>3</td>\n",
       "      <td>1.0</td>\n",
       "      <td>0.407926</td>\n",
       "      <td>0</td>\n",
       "      <td>0</td>\n",
       "      <td>-0.486337</td>\n",
       "      <td>0.0</td>\n",
       "      <td>0.0</td>\n",
       "      <td>1.0</td>\n",
       "    </tr>\n",
       "  </tbody>\n",
       "</table>\n",
       "</div>"
      ],
      "text/plain": [
       "   Survived  Pclass  Sex       Age  SibSp  Parch      Fare    C    Q    S\n",
       "0         0       3  1.0 -0.592481      1      0 -0.502445  0.0  0.0  1.0\n",
       "1         1       1  0.0  0.638789      1      0  0.786845  1.0  0.0  0.0\n",
       "2         1       3  0.0 -0.284663      0      0 -0.488854  0.0  0.0  1.0\n",
       "3         1       1  0.0  0.407926      1      0  0.420730  0.0  0.0  1.0\n",
       "4         0       3  1.0  0.407926      0      0 -0.486337  0.0  0.0  1.0"
      ]
     },
     "execution_count": 11,
     "metadata": {},
     "output_type": "execute_result"
    }
   ],
   "source": [
    "from sklearn.preprocessing import StandardScaler, Normalizer\n",
    "col_names = ['Age', 'Fare']\n",
    "features_train = train_data[col_names]\n",
    "features_test = test_data[col_names]\n",
    "features_train = StandardScaler().fit_transform(features_train.values)\n",
    "features_test = StandardScaler().fit_transform(features_test.values)\n",
    "train_data[col_names] = features_train\n",
    "test_data[col_names] = features_test\n",
    "features_train = train_data[col_names]\n",
    "features_test = test_data[col_names]\n",
    "features_train = Normalizer(norm=\"max\").fit_transform(features_train.values)\n",
    "features_test = Normalizer(norm=\"max\").fit_transform(features_test.values)\n",
    "train_data.head(5)"
   ]
  },
  {
   "cell_type": "markdown",
   "id": "0155cbdb",
   "metadata": {
    "papermill": {
     "duration": 0.006969,
     "end_time": "2023-01-02T02:58:09.651460",
     "exception": false,
     "start_time": "2023-01-02T02:58:09.644491",
     "status": "completed"
    },
    "tags": []
   },
   "source": [
    "**Data splitting**"
   ]
  },
  {
   "cell_type": "code",
   "execution_count": 12,
   "id": "69c0fa56",
   "metadata": {
    "execution": {
     "iopub.execute_input": "2023-01-02T02:58:09.667343Z",
     "iopub.status.busy": "2023-01-02T02:58:09.666998Z",
     "iopub.status.idle": "2023-01-02T02:58:09.672169Z",
     "shell.execute_reply": "2023-01-02T02:58:09.671374Z"
    },
    "papermill": {
     "duration": 0.014964,
     "end_time": "2023-01-02T02:58:09.673706",
     "exception": false,
     "start_time": "2023-01-02T02:58:09.658742",
     "status": "completed"
    },
    "tags": []
   },
   "outputs": [],
   "source": [
    "# excluding survived column for training and verification\n",
    "X = train_data.iloc[:, train_data.columns != 'Survived'] \n",
    "y = train_data.iloc[:, train_data.columns == 'Survived']"
   ]
  },
  {
   "cell_type": "code",
   "execution_count": 13,
   "id": "2aeefb9b",
   "metadata": {
    "execution": {
     "iopub.execute_input": "2023-01-02T02:58:09.689198Z",
     "iopub.status.busy": "2023-01-02T02:58:09.688855Z",
     "iopub.status.idle": "2023-01-02T02:58:09.702107Z",
     "shell.execute_reply": "2023-01-02T02:58:09.700937Z"
    },
    "papermill": {
     "duration": 0.02405,
     "end_time": "2023-01-02T02:58:09.704873",
     "exception": false,
     "start_time": "2023-01-02T02:58:09.680823",
     "status": "completed"
    },
    "tags": []
   },
   "outputs": [],
   "source": [
    "from sklearn.model_selection import train_test_split\n",
    "X_train, X_valid, y_train, y_valid = \\\n",
    "    train_test_split(X, y, stratify=y, \\\n",
    "    train_size=0.75, random_state = 0)"
   ]
  },
  {
   "cell_type": "markdown",
   "id": "b6017ffd",
   "metadata": {
    "papermill": {
     "duration": 0.006725,
     "end_time": "2023-01-02T02:58:09.720016",
     "exception": false,
     "start_time": "2023-01-02T02:58:09.713291",
     "status": "completed"
    },
    "tags": []
   },
   "source": [
    "# Model deployment"
   ]
  },
  {
   "cell_type": "code",
   "execution_count": 14,
   "id": "e973765a",
   "metadata": {
    "execution": {
     "iopub.execute_input": "2023-01-02T02:58:09.735267Z",
     "iopub.status.busy": "2023-01-02T02:58:09.734914Z",
     "iopub.status.idle": "2023-01-02T02:58:11.635784Z",
     "shell.execute_reply": "2023-01-02T02:58:11.634883Z"
    },
    "papermill": {
     "duration": 1.910747,
     "end_time": "2023-01-02T02:58:11.637553",
     "exception": false,
     "start_time": "2023-01-02T02:58:09.726806",
     "status": "completed"
    },
    "tags": []
   },
   "outputs": [
    {
     "name": "stderr",
     "output_type": "stream",
     "text": [
      "/opt/conda/lib/python3.7/site-packages/ipykernel_launcher.py:6: DataConversionWarning: A column-vector y was passed when a 1d array was expected. Please change the shape of y to (n_samples,), for example using ravel().\n",
      "  \n"
     ]
    },
    {
     "data": {
      "text/plain": [
       "RandomForestClassifier(min_samples_split=10, n_estimators=700, n_jobs=-1,\n",
       "                       oob_score=True, random_state=1)"
      ]
     },
     "execution_count": 14,
     "metadata": {},
     "output_type": "execute_result"
    }
   ],
   "source": [
    "from sklearn.ensemble import RandomForestClassifier\n",
    "classifier = RandomForestClassifier(criterion='gini', n_estimators=700,\n",
    "                             min_samples_split=10,min_samples_leaf=1,\n",
    "                             max_features='auto',oob_score=True,\n",
    "                             random_state=1,n_jobs=-1)\n",
    "classifier.fit(X_train, y_train)"
   ]
  },
  {
   "cell_type": "markdown",
   "id": "83f14771",
   "metadata": {
    "papermill": {
     "duration": 0.006643,
     "end_time": "2023-01-02T02:58:11.651735",
     "exception": false,
     "start_time": "2023-01-02T02:58:11.645092",
     "status": "completed"
    },
    "tags": []
   },
   "source": [
    "**Evaluation**"
   ]
  },
  {
   "cell_type": "code",
   "execution_count": 15,
   "id": "9700203d",
   "metadata": {
    "execution": {
     "iopub.execute_input": "2023-01-02T02:58:11.668457Z",
     "iopub.status.busy": "2023-01-02T02:58:11.667559Z",
     "iopub.status.idle": "2023-01-02T02:58:12.088935Z",
     "shell.execute_reply": "2023-01-02T02:58:12.087971Z"
    },
    "papermill": {
     "duration": 0.432984,
     "end_time": "2023-01-02T02:58:12.091604",
     "exception": false,
     "start_time": "2023-01-02T02:58:11.658620",
     "status": "completed"
    },
    "tags": []
   },
   "outputs": [
    {
     "name": "stdout",
     "output_type": "stream",
     "text": [
      "f1 score is:0.7662337662337664     \n",
      "accuracy score is: 0.8385650224215246     \n",
      "precision score is: 0.8676470588235294     \n",
      "recal score is: 0.686046511627907\n"
     ]
    }
   ],
   "source": [
    "y_pred = classifier.predict(X_valid)\n",
    "y_test = pd.Series(classifier.predict(test_data), name=\"Survived\")\n",
    "from sklearn.metrics import precision_score, recall_score, f1_score, accuracy_score\n",
    "print(f\"f1 score is:{f1_score(y_valid, y_pred, average='binary')} \\\n",
    "    \\naccuracy score is: {accuracy_score(y_valid, y_pred)} \\\n",
    "    \\nprecision score is: {precision_score(y_valid, y_pred)} \\\n",
    "    \\nrecal score is: {recall_score(y_valid, y_pred)}\") "
   ]
  },
  {
   "cell_type": "markdown",
   "id": "faba6cfa",
   "metadata": {
    "papermill": {
     "duration": 0.006876,
     "end_time": "2023-01-02T02:58:12.106439",
     "exception": false,
     "start_time": "2023-01-02T02:58:12.099563",
     "status": "completed"
    },
    "tags": []
   },
   "source": [
    "**Confusion Matrix**"
   ]
  },
  {
   "cell_type": "code",
   "execution_count": 16,
   "id": "b72e0499",
   "metadata": {
    "execution": {
     "iopub.execute_input": "2023-01-02T02:58:12.123170Z",
     "iopub.status.busy": "2023-01-02T02:58:12.122810Z",
     "iopub.status.idle": "2023-01-02T02:58:12.279090Z",
     "shell.execute_reply": "2023-01-02T02:58:12.277947Z"
    },
    "papermill": {
     "duration": 0.16687,
     "end_time": "2023-01-02T02:58:12.281136",
     "exception": false,
     "start_time": "2023-01-02T02:58:12.114266",
     "status": "completed"
    },
    "tags": []
   },
   "outputs": [
    {
     "data": {
      "image/png": "[encoded data removed]",
      "text/plain": [
       "<Figure size 360x360 with 1 Axes>"
      ]
     },
     "metadata": {
      "needs_background": "light"
     },
     "output_type": "display_data"
    }
   ],
   "source": [
    "import matplotlib.pyplot as plt\n",
    "from sklearn.metrics import confusion_matrix\n",
    "conf_matrix = confusion_matrix(y_true=y_valid, y_pred=y_pred)\n",
    "fig, ax = plt.subplots(figsize=(5, 5))\n",
    "ax.matshow(conf_matrix, cmap=plt.cm.Oranges, alpha=0.3)\n",
    "for i in range(conf_matrix.shape[0]):\n",
    "    for j in range(conf_matrix.shape[1]):\n",
    "        ax.text(x=j, y=i,s=conf_matrix[i, j], va='center', ha='center', size='xx-large') \n",
    "plt.xlabel('Predictions', fontsize=18)\n",
    "plt.ylabel('Actuals', fontsize=18)\n",
    "plt.title('Confusion Matrix', fontsize=18)\n",
    "plt.show()"
   ]
  },
  {
   "cell_type": "markdown",
   "id": "97f85be1",
   "metadata": {
    "papermill": {
     "duration": 0.009154,
     "end_time": "2023-01-02T02:58:12.299718",
     "exception": false,
     "start_time": "2023-01-02T02:58:12.290564",
     "status": "completed"
    },
    "tags": []
   },
   "source": [
    "# Saving data"
   ]
  },
  {
   "cell_type": "code",
   "execution_count": 17,
   "id": "bc027a39",
   "metadata": {
    "execution": {
     "iopub.execute_input": "2023-01-02T02:58:12.321217Z",
     "iopub.status.busy": "2023-01-02T02:58:12.319710Z",
     "iopub.status.idle": "2023-01-02T02:58:12.332108Z",
     "shell.execute_reply": "2023-01-02T02:58:12.331080Z"
    },
    "papermill": {
     "duration": 0.025305,
     "end_time": "2023-01-02T02:58:12.334254",
     "exception": false,
     "start_time": "2023-01-02T02:58:12.308949",
     "status": "completed"
    },
    "tags": []
   },
   "outputs": [],
   "source": [
    "results = pd.concat([ID_column, y_test], axis=1)\n",
    "# df = pd.DataFrame(data=d)\n",
    "results.to_csv('submission.csv', index=False)"
   ]
  }
 ],
 "metadata": {
  "kernelspec": {
   "display_name": "Python 3",
   "language": "python",
   "name": "python3"
  },
  "language_info": {
   "codemirror_mode": {
    "name": "ipython",
    "version": 3
   },
   "file_extension": ".py",
   "mimetype": "text/x-python",
   "name": "python",
   "nbconvert_exporter": "python",
   "pygments_lexer": "ipython3",
   "version": "3.7.12"
  },
  "papermill": {
   "default_parameters": {},
   "duration": 12.641775,
   "end_time": "2023-01-02T02:58:13.169220",
   "environment_variables": {},
   "exception": null,
   "input_path": "__notebook__.ipynb",
   "output_path": "__notebook__.ipynb",
   "parameters": {},
   "start_time": "2023-01-02T02:58:00.527445",
   "version": "2.3.4"
  }
 },
 "nbformat": 4,
 "nbformat_minor": 5
}
